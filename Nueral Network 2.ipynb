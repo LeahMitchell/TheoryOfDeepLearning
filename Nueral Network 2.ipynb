{
 "cells": [
  {
   "cell_type": "code",
   "execution_count": 1,
   "metadata": {
    "scrolled": true
   },
   "outputs": [],
   "source": [
    "import torch\n",
    "import torch.nn as nn\n",
    "from torch.autograd import Variable\n",
    "import numpy as np\n",
    "import matplotlib.pyplot as plt\n",
    "import pandas as pd"
   ]
  },
  {
   "cell_type": "code",
   "execution_count": 2,
   "metadata": {},
   "outputs": [],
   "source": [
    "data = pd.read_csv('data.csv')\n",
    "x = np.asarray(data.iloc[:, 2],dtype = np.float32).reshape(-1,1)\n",
    "y_correct = np.asarray(data.iloc[:, 3],dtype = np.float32).reshape(-1,1)"
   ]
  },
  {
   "cell_type": "code",
   "execution_count": 3,
   "metadata": {},
   "outputs": [],
   "source": [
    "class RegressionModel(nn.Module):\n",
    "\n",
    "    def __init__(self, input_dim, output_dim):\n",
    "\n",
    "        super(RegressionModel, self).__init__() \n",
    "        # Calling Super Class's constructor\n",
    "#         # nn.linear is defined in nn.Module\n",
    "        self.linear = nn.Sequential(\n",
    "            nn.Linear(input_dim, 3),\n",
    "            nn.ReLU(),\n",
    "            nn.Linear(3,2),\n",
    "            nn.ReLU(),\n",
    "            nn.Linear(2,1),\n",
    "        )\n",
    "\n",
    "        \n",
    "    def forward(self, x):\n",
    "        # Here the forward pass is simply a linear function\n",
    "        out = self.linear(x)\n",
    "        return out"
   ]
  },
  {
   "cell_type": "code",
   "execution_count": 4,
   "metadata": {},
   "outputs": [],
   "source": [
    "n = len(x)\n",
    "m = 4"
   ]
  },
  {
   "cell_type": "code",
   "execution_count": 5,
   "metadata": {},
   "outputs": [],
   "source": [
    "input_dim = 4\n",
    "output_dim = 1"
   ]
  },
  {
   "cell_type": "code",
   "execution_count": 6,
   "metadata": {},
   "outputs": [],
   "source": [
    "x_train = np.zeros(shape=(n,m))\n",
    "# x_train = x"
   ]
  },
  {
   "cell_type": "code",
   "execution_count": 7,
   "metadata": {},
   "outputs": [
    {
     "name": "stdout",
     "output_type": "stream",
     "text": [
      "[[-2.          4.         -8.         16.        ]\n",
      " [-1.          1.         -1.          1.        ]\n",
      " [ 0.89999998  0.80999994  0.72899991  0.65609992]\n",
      " [ 1.          1.          1.          1.        ]\n",
      " [ 2.          4.          8.         16.        ]]\n"
     ]
    }
   ],
   "source": [
    "for i in range(0, n):\n",
    "    for j in range(0, m):\n",
    "        x_train[i][j] = np.power(x[i], (j+1))\n",
    "\n",
    "print(x_train)\n",
    "#print(type(x_train))"
   ]
  },
  {
   "cell_type": "code",
   "execution_count": 8,
   "metadata": {},
   "outputs": [],
   "source": [
    "model = RegressionModel(input_dim,output_dim)\n",
    "\n",
    "criterion = nn.MSELoss()# Mean Squared Loss\n",
    "\n",
    "l_rate = 0.001\n",
    "\n",
    "optimiser = torch.optim.SGD(model.parameters(), lr = l_rate) #Stochastic Gradient Descent\n",
    "\n",
    "\n",
    "#optimiser = torch.optim.SGD(model.parameters(), lr = l_rate, momentum=0.01) #Momentum at 0.01\n",
    "#optimiser = torch.optim.SGD(model.parameters(), lr = l_rate, momentum=0.5) #Momentum at 0.5\n",
    "\n",
    "\n",
    "#optimiser = torch.optim.SGD(model.parameters(), lr = l_rate,momentum=0.5,nesterov= True) #Nestorv\n",
    "#optimiser = torch.optim.SGD(model.parameters(), lr = l_rate,momentum=0.01,nesterov= True) #Nesto\n",
    "\n",
    "epochs = 1000"
   ]
  },
  {
   "cell_type": "code",
   "execution_count": 9,
   "metadata": {
    "scrolled": false
   },
   "outputs": [],
   "source": [
    "for epoch in range(epochs):\n",
    "\n",
    "    epoch +=1\n",
    "    #increase the number of epochs by 1 every time\n",
    "    \n",
    "    inputs = Variable(torch.from_numpy(x_train)).float()\n",
    "    yvals = Variable(torch.from_numpy(y_correct))\n",
    "\n",
    "    #clear grads \n",
    "    optimiser.zero_grad()\n",
    "    \n",
    "    \n",
    "    #forward to get predicted values\n",
    "    outputs = model.forward(inputs)\n",
    "    loss = criterion(outputs, yvals)\n",
    "    \n",
    "    \n",
    "    loss.backward() # back props\n",
    "    \n",
    "    optimiser.step() # update the parameters\n",
    "    #print(outputs)\n",
    "    #print('epoch {}, loss {}'.format(epoch,loss.data[0]))"
   ]
  },
  {
   "cell_type": "code",
   "execution_count": 10,
   "metadata": {},
   "outputs": [],
   "source": [
    "#predicted = model.forward(Variable(torch.from_numpy(x_train))).data.numpy()\n",
    "# print (outputs)\n",
    "predicted = model.forward(torch.from_numpy(x_train).float()).data.numpy()\n",
    "# result = model.state_dict()['linear0.weight']\n",
    "# print(result)\n",
    "# print(predicted)"
   ]
  },
  {
   "cell_type": "code",
   "execution_count": 11,
   "metadata": {},
   "outputs": [
    {
     "data": {
      "text/plain": [
       "array([[3.583611  ],\n",
       "       [0.22717647],\n",
       "       [0.40625   ],\n",
       "       [0.5165927 ],\n",
       "       [4.447615  ]], dtype=float32)"
      ]
     },
     "execution_count": 11,
     "metadata": {},
     "output_type": "execute_result"
    }
   ],
   "source": [
    "predicted"
   ]
  },
  {
   "cell_type": "code",
   "execution_count": 12,
   "metadata": {},
   "outputs": [],
   "source": [
    "#Starting the testing process\n",
    "testdata = pd.read_csv('valz.csv')\n",
    "testx=np.asarray(testdata.iloc[:, 1],dtype = np.float32).reshape(-1,1)\n",
    "testy=np.asarray(testdata.iloc[:, 2],dtype = np.float32).reshape(-1,1) #?? needed?"
   ]
  },
  {
   "cell_type": "code",
   "execution_count": 16,
   "metadata": {},
   "outputs": [],
   "source": [
    "x_test = np.zeros(shape=(len(testx),m))"
   ]
  },
  {
   "cell_type": "code",
   "execution_count": 17,
   "metadata": {
    "scrolled": true
   },
   "outputs": [
    {
     "name": "stdout",
     "output_type": "stream",
     "text": [
      "[[-2.46110153e+00  6.05702066e+00 -1.49069433e+01  3.66875000e+01]\n",
      " [-2.46024656e+00  6.05281305e+00 -1.48914127e+01  3.66365471e+01]\n",
      " [-2.39726138e+00  5.74686193e+00 -1.37767305e+01  3.30264244e+01]\n",
      " [-2.35907173e+00  5.56521940e+00 -1.31287518e+01  3.09716682e+01]\n",
      " [-2.35303807e+00  5.53678799e+00 -1.30282736e+01  3.06560230e+01]\n",
      " [-2.34951496e+00  5.52022076e+00 -1.29698410e+01  3.04728355e+01]\n",
      " [-2.34200525e+00  5.48498869e+00 -1.28458719e+01  3.00851002e+01]\n",
      " [-2.23895597e+00  5.01292372e+00 -1.12237158e+01  2.51294060e+01]\n",
      " [-2.23035765e+00  4.97449541e+00 -1.10949039e+01  2.47456036e+01]\n",
      " [-2.19072485e+00  4.79927540e+00 -1.05138922e+01  2.30330448e+01]\n",
      " [-2.07545185e+00  4.30750036e+00 -8.94001007e+00  1.85545597e+01]\n",
      " [-1.96654940e+00  3.86731648e+00 -7.60526896e+00  1.49561367e+01]\n",
      " [-1.89815378e+00  3.60298777e+00 -6.83902502e+00  1.29815207e+01]\n",
      " [-1.87400103e+00  3.51187992e+00 -6.58126640e+00  1.23332996e+01]\n",
      " [-1.78046334e+00  3.17004967e+00 -5.64415741e+00  1.00492153e+01]\n",
      " [-1.75957191e+00  3.09609342e+00 -5.44779873e+00  9.58579350e+00]\n",
      " [-1.75698447e+00  3.08699441e+00 -5.42380142e+00  9.52953434e+00]\n",
      " [-1.73723185e+00  3.01797462e+00 -5.24292135e+00  9.10817051e+00]\n",
      " [-1.72081614e+00  2.96120811e+00 -5.09569502e+00  8.76875401e+00]\n",
      " [-1.70878863e+00  2.91995859e+00 -4.98959208e+00  8.52615833e+00]\n",
      " [-1.68310916e+00  2.83285642e+00 -4.76800680e+00  8.02507591e+00]\n",
      " [-1.51247466e+00  2.28757954e+00 -3.45990610e+00  5.23302031e+00]\n",
      " [-1.49337566e+00  2.23017097e+00 -3.33048296e+00  4.97366190e+00]\n",
      " [-1.48661292e+00  2.21001792e+00 -3.28544116e+00  4.88417959e+00]\n",
      " [-1.47787273e+00  2.18410778e+00 -3.22783327e+00  4.77032709e+00]\n",
      " [-1.44558597e+00  2.08971882e+00 -3.02086806e+00  4.36692476e+00]\n",
      " [-1.42944252e+00  2.04330587e+00 -2.92078829e+00  4.17509890e+00]\n",
      " [-1.39446354e+00  1.94452858e+00 -2.71157408e+00  3.78119135e+00]\n",
      " [-1.36947989e+00  1.87547517e+00 -2.56842566e+00  3.51740718e+00]\n",
      " [-1.34791327e+00  1.81687021e+00 -2.44898343e+00  3.30101728e+00]\n",
      " [-1.30295157e+00  1.69768286e+00 -2.21199846e+00  2.88212681e+00]\n",
      " [-1.19365382e+00  1.42480946e+00 -1.70072925e+00  2.03008199e+00]\n",
      " [-1.08063436e+00  1.16777062e+00 -1.26193309e+00  1.36368823e+00]\n",
      " [-1.04827988e+00  1.09889066e+00 -1.15194499e+00  1.20756078e+00]\n",
      " [-1.02305245e+00  1.04663634e+00 -1.07076383e+00  1.09544754e+00]\n",
      " [-1.00856221e+00  1.01719773e+00 -1.02590716e+00  1.03469121e+00]\n",
      " [-9.84995782e-01  9.70216691e-01 -9.55659330e-01  9.41320419e-01]\n",
      " [-8.90714347e-01  7.93372035e-01 -7.06667840e-01  6.29439235e-01]\n",
      " [-8.86128664e-01  7.85224020e-01 -6.95809484e-01  6.16576731e-01]\n",
      " [-8.69723320e-01  7.56418645e-01 -6.57874942e-01  5.72169185e-01]\n",
      " [-8.63228798e-01  7.45163977e-01 -6.43247008e-01  5.55269301e-01]\n",
      " [-8.51653516e-01  7.25313723e-01 -6.17715955e-01  5.26079953e-01]\n",
      " [-8.18639994e-01  6.70171440e-01 -5.48629165e-01  4.49129760e-01]\n",
      " [-5.15135109e-01  2.65364170e-01 -1.36698410e-01  7.04181492e-02]\n",
      " [-5.05608618e-01  2.55640090e-01 -1.29253820e-01  6.53518513e-02]\n",
      " [-5.03868580e-01  2.53883541e-01 -1.27923936e-01  6.44568577e-02]\n",
      " [-4.81267273e-01  2.31618196e-01 -1.11470252e-01  5.36469854e-02]\n",
      " [-4.39318389e-01  1.93000644e-01 -8.47887322e-02  3.72492485e-02]\n",
      " [-3.57524186e-01  1.27823547e-01 -4.57000099e-02  1.63388588e-02]\n",
      " [-3.38730037e-01  1.14738040e-01 -3.88652198e-02  1.31648174e-02]\n",
      " [-2.88177818e-01  8.30464512e-02 -2.39321459e-02  6.89671375e-03]\n",
      " [-2.59677500e-01  6.74324036e-02 -1.75106786e-02  4.54712892e-03]\n",
      " [-2.23702863e-01  5.00429720e-02 -1.11947563e-02  2.50429893e-03]\n",
      " [-1.90518826e-01  3.62974219e-02 -6.91534253e-03  1.31750293e-03]\n",
      " [-1.87098071e-01  3.50056887e-02 -6.54949667e-03  1.22539815e-03]\n",
      " [-1.21578656e-01  1.47813698e-02 -1.79709902e-03  2.18488887e-04]\n",
      " [-9.54257622e-02  9.10607632e-03 -8.68954230e-04  8.29206183e-05]\n",
      " [ 1.06854133e-01  1.14178061e-02  1.22003979e-03  1.30366287e-04]\n",
      " [ 1.10320248e-01  1.21705569e-02  1.34265888e-03  1.48122461e-04]\n",
      " [ 1.62179798e-01  2.63022874e-02  4.26569954e-03  6.91810274e-04]\n",
      " [ 2.44432315e-01  5.97471558e-02  1.46041354e-02  3.56972264e-03]\n",
      " [ 4.22236174e-01  1.78283393e-01  7.52776936e-02  3.17849666e-02]\n",
      " [ 5.04146039e-01  2.54163235e-01  1.28135383e-01  6.45989478e-02]\n",
      " [ 5.04148662e-01  2.54165888e-01  1.28137380e-01  6.46002889e-02]\n",
      " [ 5.31414211e-01  2.82401055e-01  1.50071934e-01  7.97503591e-02]\n",
      " [ 5.39843082e-01  2.91430563e-01  1.57326773e-01  8.49317685e-02]\n",
      " [ 5.52394807e-01  3.05140018e-01  1.68557763e-01  9.31104347e-02]\n",
      " [ 6.18545413e-01  3.82598430e-01  2.36654505e-01  1.46381557e-01]\n",
      " [ 6.52378738e-01  4.25598025e-01  2.77651101e-01  1.81133673e-01]\n",
      " [ 6.90018475e-01  4.76125509e-01  3.28535378e-01  2.26695493e-01]\n",
      " [ 7.54374504e-01  5.69080889e-01  4.29300129e-01  3.23853076e-01]\n",
      " [ 7.79558301e-01  6.07711136e-01  4.73746270e-01  3.69312823e-01]\n",
      " [ 8.09304118e-01  6.54973149e-01  5.30072451e-01  4.28989828e-01]\n",
      " [ 8.14719796e-01  6.63768351e-01  5.40785193e-01  4.40588415e-01]\n",
      " [ 8.20801973e-01  6.73715889e-01  5.52987337e-01  4.53893095e-01]\n",
      " [ 8.26808691e-01  6.83612585e-01  5.65216839e-01  4.67326194e-01]\n",
      " [ 8.44818234e-01  7.13717878e-01  6.02961838e-01  5.09393156e-01]\n",
      " [ 1.10228908e+00  1.21504116e+00  1.33932662e+00  1.47632515e+00]\n",
      " [ 1.10756767e+00  1.22670615e+00  1.35866010e+00  1.50480795e+00]\n",
      " [ 1.15139198e+00  1.32570350e+00  1.52640438e+00  1.75748980e+00]\n",
      " [ 1.23046005e+00  1.51403189e+00  1.86295581e+00  2.29229259e+00]\n",
      " [ 1.28032231e+00  1.63922524e+00  2.09873652e+00  2.68705940e+00]\n",
      " [ 1.35968292e+00  1.84873760e+00  2.51369691e+00  3.41783094e+00]\n",
      " [ 1.36939204e+00  1.87523460e+00  2.56793118e+00  3.51650453e+00]\n",
      " [ 1.41495585e+00  2.00209999e+00  2.83288312e+00  4.00840473e+00]\n",
      " [ 1.42284131e+00  2.02447748e+00  2.88051009e+00  4.09850883e+00]\n",
      " [ 1.60072112e+00  2.56230807e+00  4.10154057e+00  6.56542301e+00]\n",
      " [ 1.67160249e+00  2.79425478e+00  4.67088318e+00  7.80786037e+00]\n",
      " [ 1.69473588e+00  2.87212968e+00  4.86750126e+00  8.24912930e+00]\n",
      " [ 1.76698565e+00  3.12223840e+00  5.51695013e+00  9.74837208e+00]\n",
      " [ 2.01569843e+00  4.06304026e+00  8.18986416e+00  1.65082951e+01]\n",
      " [ 2.03518152e+00  4.14196396e+00  8.42964840e+00  1.71558647e+01]\n",
      " [ 2.08258772e+00  4.33717155e+00  9.03254032e+00  1.88110580e+01]\n",
      " [ 2.11235619e+00  4.46204853e+00  9.42543602e+00  1.99098778e+01]\n",
      " [ 2.14744544e+00  4.61152172e+00  9.90299129e+00  2.12661343e+01]\n",
      " [ 2.16323543e+00  4.67958736e+00  1.01230497e+01  2.18985386e+01]\n",
      " [ 2.16975856e+00  4.70785236e+00  1.02149029e+01  2.21638718e+01]\n",
      " [ 2.23724294e+00  5.00525618e+00  1.11979733e+01  2.50525875e+01]\n",
      " [ 2.37812209e+00  5.65546465e+00  1.34493856e+01  3.19842815e+01]\n",
      " [ 2.46126437e+00  6.05782223e+00  1.49099026e+01  3.66972122e+01]]\n"
     ]
    }
   ],
   "source": [
    "# for l in range(1,len(testx)):\n",
    "#     if 4%l == 0 :\n",
    "for i in range(0, len(testx)):\n",
    "    for j in range(0, m):\n",
    "        x_test[i][j] = np.power(testx[i], (j+1))\n",
    "print(x_test)"
   ]
  },
  {
   "cell_type": "code",
   "execution_count": 18,
   "metadata": {},
   "outputs": [
    {
     "name": "stdout",
     "output_type": "stream",
     "text": [
      "9.075668\n"
     ]
    }
   ],
   "source": [
    "yhat = model.forward(torch.from_numpy(x_test).float()).data.numpy()\n",
    "error = np.linalg.norm((testy-yhat)) \n",
    "print(error)"
   ]
  },
  {
   "cell_type": "code",
   "execution_count": 19,
   "metadata": {},
   "outputs": [
    {
     "data": {
      "text/plain": [
       "<matplotlib.legend.Legend at 0x19504e025c8>"
      ]
     },
     "execution_count": 19,
     "metadata": {},
     "output_type": "execute_result"
    },
    {
     "data": {
      "image/png": "[encoded data removed]",
      "text/plain": [
       "<Figure size 432x288 with 1 Axes>"
      ]
     },
     "metadata": {
      "needs_background": "light"
     },
     "output_type": "display_data"
    }
   ],
   "source": [
    "\n",
    "plt.plot(testx, yhat, label=\"Predicted\", color = \"red\")\n",
    "\n",
    "#plotting old data\n",
    "plt.scatter(x, y_correct, label =\"True Data\", color = \"Blue\")\n",
    "\n",
    "\n",
    "plt.title(\"Complex Neural Network, Stochastic Gradient Descent\")\n",
    "plt.legend()"
   ]
  },
  {
   "cell_type": "code",
   "execution_count": null,
   "metadata": {},
   "outputs": [],
   "source": []
  }
 ],
 "metadata": {
  "kernelspec": {
   "display_name": "Python 3",
   "language": "python",
   "name": "python3"
  },
  "language_info": {
   "codemirror_mode": {
    "name": "ipython",
    "version": 3
   },
   "file_extension": ".py",
   "mimetype": "text/x-python",
   "name": "python",
   "nbconvert_exporter": "python",
   "pygments_lexer": "ipython3",
   "version": "3.7.6"
  }
 },
 "nbformat": 4,
 "nbformat_minor": 2
}
