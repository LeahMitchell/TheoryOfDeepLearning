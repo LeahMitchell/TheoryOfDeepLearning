{
  "cells": [
    {
      "metadata": {
        "trusted": true
      },
      "cell_type": "code",
      "source": "import numpy as np \nfrom numpy.linalg import solve\nimport matplotlib.pyplot as plt\nimport pandas as pd ",
      "execution_count": 1,
      "outputs": []
    },
    {
      "metadata": {
        "trusted": true
      },
      "cell_type": "code",
      "source": "#Importing the Data\n#set 1: x=0, y=1 in data.csv\n#set 2: x=2, y=3 in data.csv\n#set 3: x=4, y=5 in data.csv\n#set 4: x=6, y=7 in data.csv\n\n\ndata = pd.read_csv('data.csv')\nx = data.iloc[:, 2]\ny = data.iloc[:, 3]",
      "execution_count": 11,
      "outputs": []
    },
    {
      "metadata": {
        "trusted": true
      },
      "cell_type": "code",
      "source": "degree = 4\nn = len(x)",
      "execution_count": 12,
      "outputs": []
    },
    {
      "metadata": {
        "trusted": true
      },
      "cell_type": "code",
      "source": "X = np.ones((n,degree+1))\nprint(X)",
      "execution_count": 13,
      "outputs": [
        {
          "output_type": "stream",
          "text": "[[1. 1. 1. 1. 1.]\n [1. 1. 1. 1. 1.]\n [1. 1. 1. 1. 1.]\n [1. 1. 1. 1. 1.]\n [1. 1. 1. 1. 1.]]\n",
          "name": "stdout"
        }
      ]
    },
    {
      "metadata": {
        "trusted": true
      },
      "cell_type": "code",
      "source": "# Fill in columns 2-4 with our predictors.\nfor i in range(1,degree+1): #iterate through our columns \n    for j in range(0,n): #iterate through our rows \n        X[j,i] = x[j]**i\nprint(X)\n",
      "execution_count": 14,
      "outputs": [
        {
          "output_type": "stream",
          "text": "[[ 1.     -2.      4.     -8.     16.    ]\n [ 1.     -1.      1.     -1.      1.    ]\n [ 1.      0.9     0.81    0.729   0.6561]\n [ 1.      1.      1.      1.      1.    ]\n [ 1.      2.      4.      8.     16.    ]]\n",
          "name": "stdout"
        }
      ]
    },
    {
      "metadata": {
        "trusted": true,
        "scrolled": true
      },
      "cell_type": "code",
      "source": "XT = np.transpose(X)\ny = np.asarray(y)",
      "execution_count": 15,
      "outputs": []
    },
    {
      "metadata": {
        "trusted": true
      },
      "cell_type": "code",
      "source": "B = (np.linalg.inv(XT.dot(X))).dot(XT).dot(np.transpose(y))\nprint(B)\nprint(B.shape)",
      "execution_count": 16,
      "outputs": [
        {
          "output_type": "stream",
          "text": "[ 1.75943031  0.07701667 -2.22889622  0.03443333  0.69891591]\n(5,)\n",
          "name": "stdout"
        }
      ]
    },
    {
      "metadata": {
        "trusted": true
      },
      "cell_type": "code",
      "source": "#plotting our fit\n%matplotlib inline\n\nplt.scatter(x,y,color='blue', label = \"True Data\")\n# add in the line!!!\nplotx = np.arange(-2.5, 2.5, 0.1)\nploty = B[0] + B[1]*(plotx) + B[2]*(plotx**2) + B[3]*(plotx**3)+ B[4]*(plotx**4)\nplt.plot(plotx,ploty, color =\"red\", label = \"Prediction\")\nplt.legend()\nplt.title(\"Least Squares through Normal Equation\")",
      "execution_count": 17,
      "outputs": [
        {
          "output_type": "execute_result",
          "execution_count": 17,
          "data": {
            "text/plain": "Text(0.5, 1.0, 'Least Squares through Normal Equation')"
          },
          "metadata": {}
        },
        {
          "output_type": "display_data",
          "data": {
            "image/png": "[encoded data removed]",
            "text/plain": "<Figure size 432x288 with 1 Axes>"
          },
          "metadata": {
            "needs_background": "light"
          }
        }
      ]
    },
    {
      "metadata": {
        "trusted": true
      },
      "cell_type": "code",
      "source": "#Starting the testing process\ntestdata = pd.read_csv('valz.csv')\ntestx = testdata.iloc[:, 1]\ntesty = testdata.iloc[:, 2] ",
      "execution_count": 18,
      "outputs": []
    },
    {
      "metadata": {
        "trusted": true
      },
      "cell_type": "code",
      "source": "yhat =  B[0] + B[1]*(testx) + B[2]*(testx**2) + B[3]*(testx**3)+ B[4]*(testx**4)\nerror = np.linalg.norm((testy-yhat))\nprint(error)",
      "execution_count": 19,
      "outputs": [
        {
          "output_type": "stream",
          "text": "23.297538454644545\n",
          "name": "stdout"
        }
      ]
    },
    {
      "metadata": {
        "trusted": true
      },
      "cell_type": "code",
      "source": "",
      "execution_count": null,
      "outputs": []
    }
  ],
  "metadata": {
    "kernelspec": {
      "name": "python36",
      "display_name": "Python 3.6",
      "language": "python"
    },
    "language_info": {
      "mimetype": "text/x-python",
      "nbconvert_exporter": "python",
      "name": "python",
      "pygments_lexer": "ipython3",
      "version": "3.6.6",
      "file_extension": ".py",
      "codemirror_mode": {
        "version": 3,
        "name": "ipython"
      }
    }
  },
  "nbformat": 4,
  "nbformat_minor": 2
}