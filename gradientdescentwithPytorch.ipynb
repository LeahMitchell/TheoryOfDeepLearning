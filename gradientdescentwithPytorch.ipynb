{
  "cells": [
    {
      "metadata": {
        "trusted": true
      },
      "cell_type": "code",
      "source": "import torch\nimport torch.nn as nn\nfrom torch.autograd import Variable\nimport numpy as np\nimport matplotlib.pyplot as plt\nimport pandas as pd",
      "execution_count": 14,
      "outputs": []
    },
    {
      "metadata": {
        "trusted": true
      },
      "cell_type": "code",
      "source": "data = pd.read_csv('data.csv')\nx = np.asarray(data.iloc[:, 2],dtype = np.float32).reshape(-1,1)\ny_correct = np.asarray(data.iloc[:, 3],dtype = np.float32).reshape(-1,1)",
      "execution_count": 15,
      "outputs": []
    },
    {
      "metadata": {
        "trusted": true
      },
      "cell_type": "code",
      "source": "class RegressionModel(nn.Module):\n\n    def __init__(self, input_dim, output_dim):\n\n        super(RegressionModel, self).__init__() \n        # Calling Super Class's constructor\n        \n        self.linear = nn.Linear(input_dim, output_dim)\n\n        \n    def forward(self, x):\n        # Here the forward pass is simply a linear function\n        out = self.linear(x)\n        return out",
      "execution_count": 16,
      "outputs": []
    },
    {
      "metadata": {
        "trusted": true
      },
      "cell_type": "code",
      "source": "n = len(x)\nm = 4",
      "execution_count": 17,
      "outputs": []
    },
    {
      "metadata": {
        "trusted": true
      },
      "cell_type": "code",
      "source": "input_dim = 4\noutput_dim = 1",
      "execution_count": 18,
      "outputs": []
    },
    {
      "metadata": {
        "trusted": true
      },
      "cell_type": "code",
      "source": "x_train = np.zeros(shape=(n,m))\n# x_train = x",
      "execution_count": 19,
      "outputs": []
    },
    {
      "metadata": {
        "trusted": true
      },
      "cell_type": "code",
      "source": "for i in range(0, n):\n    for j in range(0, m):\n        x_train[i][j] = np.power(x[i], (j+1))\n\nprint(x_train)\n#print(type(x_train))",
      "execution_count": 20,
      "outputs": [
        {
          "output_type": "stream",
          "text": "[[-2.          4.         -8.         16.        ]\n [-1.          1.         -1.          1.        ]\n [ 0.89999998  0.80999994  0.72899997  0.65609992]\n [ 1.          1.          1.          1.        ]\n [ 2.          4.          8.         16.        ]]\n",
          "name": "stdout"
        }
      ]
    },
    {
      "metadata": {
        "trusted": true
      },
      "cell_type": "code",
      "source": "model = RegressionModel(input_dim,output_dim)\n\ncriterion = nn.MSELoss()# Mean Squared Loss\n\nl_rate = 0.001\n\n#optimiser = torch.optim.SGD(model.parameters(), lr = l_rate) #Stochastic Gradient Descent\n\n#optimiser = torch.optim.SGD(model.parameters(), lr = l_rate, momentum=0.01) #Momentum at 0.01\n#optimiser = torch.optim.SGD(model.parameters(), lr = l_rate, momentum=0.5) #Momentum at 0.5\n\n\n#optimiser = torch.optim.SGD(model.parameters(), lr = l_rate,momentum=0.5,nesterov= True) #Nestorv\noptimiser = torch.optim.SGD(model.parameters(), lr = l_rate,momentum=0.01,nesterov= True) #Nestorv\n\n\n\nepochs = 1000",
      "execution_count": 21,
      "outputs": []
    },
    {
      "metadata": {
        "trusted": true,
        "scrolled": false
      },
      "cell_type": "code",
      "source": "for epoch in range(epochs):\n\n    epoch +=1\n    #increase the number of epochs by 1 every time\n    \n    inputs = Variable(torch.from_numpy(x_train)).float()\n    yvals = Variable(torch.from_numpy(y_correct))\n\n    #clear grads \n    optimiser.zero_grad()\n    \n    \n    #forward to get predicted values\n    outputs = model.forward(inputs)\n    loss = criterion(outputs, yvals)\n    \n    loss.backward() # back props\n    \n    optimiser.step() # update the parameters\n    #print(outputs)\n    #print('epoch {}, loss {}'.format(epoch,loss.data[0]))",
      "execution_count": 22,
      "outputs": []
    },
    {
      "metadata": {
        "trusted": true
      },
      "cell_type": "code",
      "source": "#predicted = model.forward(Variable(torch.from_numpy(x_train))).data.numpy()\npredicted = model.forward(torch.from_numpy(x_train).float()).data.numpy()\nresult = model.state_dict()\nprint(result)",
      "execution_count": 23,
      "outputs": [
        {
          "output_type": "stream",
          "text": "OrderedDict([('linear.weight', tensor([[0.0333, 0.1629, 0.0465, 0.2035]])), ('linear.bias', tensor([0.1030]))])\n",
          "name": "stdout"
        }
      ]
    },
    {
      "metadata": {
        "trusted": true,
        "scrolled": true
      },
      "cell_type": "code",
      "source": "#plotting line\nplotx = np.arange(-2.5, 2.5, 0.1)\ncoefficients = result['linear.weight'].tolist()[0]\nbias =result['linear.bias'].tolist()[0]\n\nploty = bias + coefficients[0]*(plotx) + coefficients[1]*(plotx**2) + coefficients[2]*(plotx**3)+ coefficients[3]*(plotx**4)\nplt.plot(plotx,ploty, label = 'Prediction', color = \"red\")\n\n#plotting old data\nplt.scatter(x, y_correct, label =\"True Data\", color = \"Blue\")\n\nplt.title(\"Nesterov's Gradient Descent with Momentum (0.01)\")\nplt.legend()",
      "execution_count": 24,
      "outputs": [
        {
          "output_type": "execute_result",
          "execution_count": 24,
          "data": {
            "text/plain": "<matplotlib.legend.Legend at 0x7f03d7a5d588>"
          },
          "metadata": {}
        },
        {
          "output_type": "display_data",
          "data": {
            "image/png": "[encoded data removed]",
            "text/plain": "<Figure size 432x288 with 1 Axes>"
          },
          "metadata": {
            "needs_background": "light"
          }
        }
      ]
    },
    {
      "metadata": {
        "trusted": true
      },
      "cell_type": "code",
      "source": "#Starting the testing process\ntestdata = pd.read_csv('valz.csv')\ntestx = testdata.iloc[:, 1]\ntesty = testdata.iloc[:, 2] ",
      "execution_count": 25,
      "outputs": []
    },
    {
      "metadata": {
        "trusted": true
      },
      "cell_type": "code",
      "source": "yhat = bias + coefficients[0]*(testx) + coefficients[1]*(testx**2) + coefficients[2]*(testx**3)+ coefficients[3]*(testx**4)\nerror = np.linalg.norm((testy-yhat))\nprint(error)",
      "execution_count": 26,
      "outputs": [
        {
          "output_type": "stream",
          "text": "7.854202935705193\n",
          "name": "stdout"
        }
      ]
    },
    {
      "metadata": {
        "trusted": true
      },
      "cell_type": "code",
      "source": "",
      "execution_count": null,
      "outputs": []
    }
  ],
  "metadata": {
    "kernelspec": {
      "name": "python36",
      "display_name": "Python 3.6",
      "language": "python"
    },
    "language_info": {
      "mimetype": "text/x-python",
      "nbconvert_exporter": "python",
      "name": "python",
      "pygments_lexer": "ipython3",
      "version": "3.6.6",
      "file_extension": ".py",
      "codemirror_mode": {
        "version": 3,
        "name": "ipython"
      }
    }
  },
  "nbformat": 4,
  "nbformat_minor": 2
}