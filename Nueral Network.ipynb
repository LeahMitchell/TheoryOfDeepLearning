{
 "cells": [
  {
   "cell_type": "code",
   "execution_count": 2,
   "metadata": {},
   "outputs": [],
   "source": [
    "import torch\n",
    "import torch.nn as nn\n",
    "from torch.autograd import Variable\n",
    "import numpy as np\n",
    "import matplotlib.pyplot as plt\n",
    "import pandas as pd"
   ]
  },
  {
   "cell_type": "code",
   "execution_count": 3,
   "metadata": {},
   "outputs": [],
   "source": [
    "data = pd.read_csv('data.csv')\n",
    "x = np.asarray(data.iloc[:, 2],dtype = np.float32).reshape(-1,1)\n",
    "y_correct = np.asarray(data.iloc[:, 3],dtype = np.float32).reshape(-1,1)"
   ]
  },
  {
   "cell_type": "code",
   "execution_count": 4,
   "metadata": {},
   "outputs": [],
   "source": [
    "class RegressionModel(nn.Module):\n",
    "\n",
    "    def __init__(self, input_dim, output_dim):\n",
    "\n",
    "        super(RegressionModel, self).__init__() \n",
    "        # Calling Super Class's constructor\n",
    "#         # nn.linear is defined in nn.Module\n",
    "        self.linear = nn.Sequential(\n",
    "            nn.Linear(input_dim,4),\n",
    "            nn.Tanh(),\n",
    "            nn.Linear(4, 3),\n",
    "            nn.Tanh(),\n",
    "            nn.Linear(3,3),\n",
    "            nn.Tanh(),\n",
    "            nn.Linear(3, 2),\n",
    "            nn.Tanh(),\n",
    "            nn.Linear(2,2),\n",
    "            nn.Tanh(),\n",
    "            nn.Linear(2,1),\n",
    "        )\n",
    "\n",
    "        \n",
    "    def forward(self, x):\n",
    "        # Here the forward pass is simply a linear function\n",
    "        out = self.linear(x)\n",
    "        return out"
   ]
  },
  {
   "cell_type": "code",
   "execution_count": 5,
   "metadata": {},
   "outputs": [],
   "source": [
    "n = len(x)\n",
    "m = 4"
   ]
  },
  {
   "cell_type": "code",
   "execution_count": 6,
   "metadata": {},
   "outputs": [],
   "source": [
    "input_dim = 4\n",
    "output_dim = 1"
   ]
  },
  {
   "cell_type": "code",
   "execution_count": 7,
   "metadata": {},
   "outputs": [],
   "source": [
    "x_train = np.zeros(shape=(n,m))\n",
    "# x_train = x"
   ]
  },
  {
   "cell_type": "code",
   "execution_count": 8,
   "metadata": {},
   "outputs": [
    {
     "name": "stdout",
     "output_type": "stream",
     "text": [
      "[[-2.          4.         -8.         16.        ]\n",
      " [-1.          1.         -1.          1.        ]\n",
      " [ 0.89999998  0.80999994  0.72899991  0.65609992]\n",
      " [ 1.          1.          1.          1.        ]\n",
      " [ 2.          4.          8.         16.        ]]\n"
     ]
    }
   ],
   "source": [
    "for i in range(0, n):\n",
    "    for j in range(0, m):\n",
    "        x_train[i][j] = np.power(x[i], (j+1))\n",
    "\n",
    "print(x_train)\n",
    "#print(type(x_train))"
   ]
  },
  {
   "cell_type": "code",
   "execution_count": 9,
   "metadata": {},
   "outputs": [],
   "source": [
    "model = RegressionModel(input_dim,output_dim)\n",
    "\n",
    "criterion = nn.MSELoss()# Mean Squared Loss\n",
    "\n",
    "l_rate = 0.001\n",
    "\n",
    "# optimiser = torch.optim.SGD(model.parameters(), lr = l_rate) #Stochastic Gradient Descent\n",
    "\n",
    "\n",
    "optimiser = torch.optim.SGD(model.parameters(), lr = l_rate, momentum=0.01) #Momentum at 0.01\n",
    "#optimiser = torch.optim.SGD(model.parameters(), lr = l_rate, momentum=0.5) #Momentum at 0.5\n",
    "\n",
    "\n",
    "# optimiser = torch.optim.SGD(model.parameters(), lr = l_rate,momentum=0.5,nesterov= True) #Nestorv\n",
    "#optimiser = torch.optim.SGD(model.parameters(), lr = l_rate,momentum=0.01,nesterov= True) #Nesto\n",
    "\n",
    "epochs = 1000"
   ]
  },
  {
   "cell_type": "code",
   "execution_count": 10,
   "metadata": {
    "scrolled": false
   },
   "outputs": [],
   "source": [
    "for epoch in range(epochs):\n",
    "\n",
    "    epoch +=1\n",
    "    #increase the number of epochs by 1 every time\n",
    "    \n",
    "    inputs = Variable(torch.from_numpy(x_train)).float()\n",
    "    yvals = Variable(torch.from_numpy(y_correct))\n",
    "\n",
    "    #clear grads \n",
    "    optimiser.zero_grad()\n",
    "    \n",
    "    \n",
    "    #forward to get predicted values\n",
    "    outputs = model.forward(inputs)\n",
    "    loss = criterion(outputs, yvals)\n",
    "    \n",
    "    loss.backward() # back props\n",
    "    \n",
    "    optimiser.step() # update the parameters\n",
    "    #print(outputs)\n",
    "    #print('epoch {}, loss {}'.format(epoch,loss.data[0]))"
   ]
  },
  {
   "cell_type": "code",
   "execution_count": 11,
   "metadata": {},
   "outputs": [],
   "source": [
    "#predicted = model.forward(Variable(torch.from_numpy(x_train))).data.numpy()\n",
    "# print (outputs)\n",
    "predicted = model.forward(torch.from_numpy(x_train).float()).data.numpy()\n",
    "# result = model.state_dict()['linear0.weight']\n",
    "# print(result)\n",
    "# print(predicted)"
   ]
  },
  {
   "cell_type": "code",
   "execution_count": 12,
   "metadata": {},
   "outputs": [],
   "source": [
    "#Starting the testing process\n",
    "testdata = pd.read_csv('valz.csv')\n",
    "testx=np.asarray(testdata.iloc[:, 1],dtype = np.float32).reshape(-1,1)\n",
    "testy=np.asarray(testdata.iloc[:, 2],dtype = np.float32).reshape(-1,1) #?? needed?\n"
   ]
  },
  {
   "cell_type": "code",
   "execution_count": 13,
   "metadata": {},
   "outputs": [],
   "source": [
    "x_test = np.zeros(shape=(len(testx),m))"
   ]
  },
  {
   "cell_type": "code",
   "execution_count": 14,
   "metadata": {},
   "outputs": [],
   "source": [
    "# for l in range(1,len(testx)):\n",
    "#     if 4%l == 0 :\n",
    "for i in range(0, len(testx)):\n",
    "    for j in range(0, m):\n",
    "        x_test[i][j] = np.power(testx[i], (j+1))\n",
    "#print(x_test)"
   ]
  },
  {
   "cell_type": "code",
   "execution_count": 15,
   "metadata": {},
   "outputs": [
    {
     "name": "stdout",
     "output_type": "stream",
     "text": [
      "18.735767\n"
     ]
    }
   ],
   "source": [
    "yhat = model.forward(torch.from_numpy(x_test).float()).data.numpy()\n",
    "error = np.linalg.norm((testy-yhat)) \n",
    "print(error)"
   ]
  },
  {
   "cell_type": "code",
   "execution_count": 16,
   "metadata": {},
   "outputs": [
    {
     "data": {
      "text/plain": [
       "<matplotlib.legend.Legend at 0x1aca043f388>"
      ]
     },
     "execution_count": 16,
     "metadata": {},
     "output_type": "execute_result"
    },
    {
     "data": {
      "image/png": "[encoded data removed]",
      "text/plain": [
       "<Figure size 432x288 with 1 Axes>"
      ]
     },
     "metadata": {
      "needs_background": "light"
     },
     "output_type": "display_data"
    }
   ],
   "source": [
    "\n",
    "plt.plot(testx, yhat, label=\"Predicted\", color = \"red\")\n",
    "\n",
    "#plotting old data\n",
    "plt.scatter(x, y_correct, label =\"True Data\", color = \"Blue\")\n",
    "\n",
    "\n",
    "plt.title(\"Boring Neural Network, Nestrov with 0.5\")\n",
    "plt.legend()"
   ]
  },
  {
   "cell_type": "code",
   "execution_count": null,
   "metadata": {},
   "outputs": [],
   "source": []
  },
  {
   "cell_type": "code",
   "execution_count": null,
   "metadata": {},
   "outputs": [],
   "source": []
  }
 ],
 "metadata": {
  "kernelspec": {
   "display_name": "Python 3",
   "language": "python",
   "name": "python3"
  },
  "language_info": {
   "codemirror_mode": {
    "name": "ipython",
    "version": 3
   },
   "file_extension": ".py",
   "mimetype": "text/x-python",
   "name": "python",
   "nbconvert_exporter": "python",
   "pygments_lexer": "ipython3",
   "version": "3.7.6"
  }
 },
 "nbformat": 4,
 "nbformat_minor": 2
}
